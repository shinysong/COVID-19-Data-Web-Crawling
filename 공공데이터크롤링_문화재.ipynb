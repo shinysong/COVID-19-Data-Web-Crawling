{
  "nbformat": 4,
  "nbformat_minor": 0,
  "metadata": {
    "kernelspec": {
      "display_name": "Python 3",
      "language": "python",
      "name": "python3"
    },
    "language_info": {
      "codemirror_mode": {
        "name": "ipython",
        "version": 3
      },
      "file_extension": ".py",
      "mimetype": "text/x-python",
      "name": "python",
      "nbconvert_exporter": "python",
      "pygments_lexer": "ipython3",
      "version": "3.7.6"
    },
    "colab": {
      "name": "공공데이터크롤링_문화재.ipynb",
      "provenance": []
    }
  },
  "cells": [
    {
      "cell_type": "code",
      "metadata": {
        "id": "LLQc8t9LIu4q",
        "colab_type": "code",
        "colab": {
          "base_uri": "https://localhost:8080/",
          "height": 388
        },
        "outputId": "b0f76f2f-04e1-4843-a38e-d600421551b4"
      },
      "source": [
        "from selenium import webdriver \n",
        "from selenium.webdriver.common.keys import Keys\n",
        "driver = webdriver.Chrome('C:/chromedriver.exe')\n",
        "driver.get('https://www.data.go.kr/tcs/dss/selectDataSetList.do')\n",
        "import time"
      ],
      "execution_count": 4,
      "outputs": [
        {
          "output_type": "error",
          "ename": "ModuleNotFoundError",
          "evalue": "ignored",
          "traceback": [
            "\u001b[0;31m---------------------------------------------------------------------------\u001b[0m",
            "\u001b[0;31mModuleNotFoundError\u001b[0m                       Traceback (most recent call last)",
            "\u001b[0;32m<ipython-input-4-a50e05d323fa>\u001b[0m in \u001b[0;36m<module>\u001b[0;34m()\u001b[0m\n\u001b[0;32m----> 1\u001b[0;31m \u001b[0;32mfrom\u001b[0m \u001b[0mselenium\u001b[0m \u001b[0;32mimport\u001b[0m \u001b[0mwebdriver\u001b[0m\u001b[0;34m\u001b[0m\u001b[0;34m\u001b[0m\u001b[0m\n\u001b[0m\u001b[1;32m      2\u001b[0m \u001b[0;32mfrom\u001b[0m \u001b[0mselenium\u001b[0m\u001b[0;34m.\u001b[0m\u001b[0mwebdriver\u001b[0m\u001b[0;34m.\u001b[0m\u001b[0mcommon\u001b[0m\u001b[0;34m.\u001b[0m\u001b[0mkeys\u001b[0m \u001b[0;32mimport\u001b[0m \u001b[0mKeys\u001b[0m\u001b[0;34m\u001b[0m\u001b[0;34m\u001b[0m\u001b[0m\n\u001b[1;32m      3\u001b[0m \u001b[0mdriver\u001b[0m \u001b[0;34m=\u001b[0m \u001b[0mwebdriver\u001b[0m\u001b[0;34m.\u001b[0m\u001b[0mChrome\u001b[0m\u001b[0;34m(\u001b[0m\u001b[0;34m'C:/chromedriver.exe'\u001b[0m\u001b[0;34m)\u001b[0m\u001b[0;34m\u001b[0m\u001b[0;34m\u001b[0m\u001b[0m\n\u001b[1;32m      4\u001b[0m \u001b[0mdriver\u001b[0m\u001b[0;34m.\u001b[0m\u001b[0mget\u001b[0m\u001b[0;34m(\u001b[0m\u001b[0;34m'https://www.data.go.kr/tcs/dss/selectDataSetList.do'\u001b[0m\u001b[0;34m)\u001b[0m\u001b[0;34m\u001b[0m\u001b[0;34m\u001b[0m\u001b[0m\n\u001b[1;32m      5\u001b[0m \u001b[0;32mimport\u001b[0m \u001b[0mtime\u001b[0m\u001b[0;34m\u001b[0m\u001b[0;34m\u001b[0m\u001b[0m\n",
            "\u001b[0;31mModuleNotFoundError\u001b[0m: No module named 'selenium'",
            "",
            "\u001b[0;31m---------------------------------------------------------------------------\u001b[0;32m\nNOTE: If your import is failing due to a missing package, you can\nmanually install dependencies using either !pip or !apt.\n\nTo view examples of installing some common dependencies, click the\n\"Open Examples\" button below.\n\u001b[0;31m---------------------------------------------------------------------------\u001b[0m\n"
          ]
        }
      ]
    },
    {
      "cell_type": "code",
      "metadata": {
        "id": "UaRjQBaMIu4z",
        "colab_type": "code",
        "colab": {
          "base_uri": "https://localhost:8080/",
          "height": 35
        },
        "outputId": "8f5678c0-15c5-4110-c72d-2eb405cbcc44"
      },
      "source": [
        "import openpyxl\n",
        "try: # 일단 시도해볼게\n",
        "    wb = openpyxl.load_workbook(\"문화재 AND 문화유산 0728.xlsx\") # 기존의 데이터 + 새로운 데이터가 축적됨\n",
        "    sheet = wb.active\n",
        "    print(\"불러오기 완료\")\n",
        "\n",
        "except: # 안되면 이렇게 해볼게\n",
        "    wb = openpyxl.Workbook() #워크북을 처음으로 활성화해줄때\n",
        "    sheet = wb.active  # 시트 활성화\n",
        "    sheet.append([\"분류체계\", \"파일이름\", \"수정일\", \"조회수\", \"다운로드수\", \"주기성데이터\"])  # 헤더 넣어주기\n",
        "    print((\"새로운 파일을 만들었습니다.\"))"
      ],
      "execution_count": 2,
      "outputs": [
        {
          "output_type": "stream",
          "text": [
            "새로운 파일을 만들었습니다.\n"
          ],
          "name": "stdout"
        }
      ]
    },
    {
      "cell_type": "code",
      "metadata": {
        "id": "Xlipqz-TIu47",
        "colab_type": "code",
        "colab": {
          "base_uri": "https://localhost:8080/",
          "height": 226
        },
        "outputId": "73fd8e02-9e28-47fa-dfd5-7979a4b4c9e7"
      },
      "source": [
        "#3. 검색창에 검색어 입력하기 // \n",
        "search_box = driver.find_element_by_css_selector(\"input#keyword.search-input\")\n",
        "search_box.send_keys(\"문화재 AND 문화유산\")\n",
        "search_box.send_keys(Keys.RETURN)"
      ],
      "execution_count": 3,
      "outputs": [
        {
          "output_type": "error",
          "ename": "NameError",
          "evalue": "ignored",
          "traceback": [
            "\u001b[0;31m---------------------------------------------------------------------------\u001b[0m",
            "\u001b[0;31mNameError\u001b[0m                                 Traceback (most recent call last)",
            "\u001b[0;32m<ipython-input-3-bec2aafb7f89>\u001b[0m in \u001b[0;36m<module>\u001b[0;34m()\u001b[0m\n\u001b[1;32m      1\u001b[0m \u001b[0;31m#3. 검색창에 검색어 입력하기 //\u001b[0m\u001b[0;34m\u001b[0m\u001b[0;34m\u001b[0m\u001b[0;34m\u001b[0m\u001b[0m\n\u001b[0;32m----> 2\u001b[0;31m \u001b[0msearch_box\u001b[0m \u001b[0;34m=\u001b[0m \u001b[0mdriver\u001b[0m\u001b[0;34m.\u001b[0m\u001b[0mfind_element_by_css_selector\u001b[0m\u001b[0;34m(\u001b[0m\u001b[0;34m\"input#keyword.search-input\"\u001b[0m\u001b[0;34m)\u001b[0m\u001b[0;34m\u001b[0m\u001b[0;34m\u001b[0m\u001b[0m\n\u001b[0m\u001b[1;32m      3\u001b[0m \u001b[0msearch_box\u001b[0m\u001b[0;34m.\u001b[0m\u001b[0msend_keys\u001b[0m\u001b[0;34m(\u001b[0m\u001b[0;34m\"문화재 AND 문화유산\"\u001b[0m\u001b[0;34m)\u001b[0m\u001b[0;34m\u001b[0m\u001b[0;34m\u001b[0m\u001b[0m\n\u001b[1;32m      4\u001b[0m \u001b[0msearch_box\u001b[0m\u001b[0;34m.\u001b[0m\u001b[0msend_keys\u001b[0m\u001b[0;34m(\u001b[0m\u001b[0mKeys\u001b[0m\u001b[0;34m.\u001b[0m\u001b[0mRETURN\u001b[0m\u001b[0;34m)\u001b[0m\u001b[0;34m\u001b[0m\u001b[0;34m\u001b[0m\u001b[0m\n",
            "\u001b[0;31mNameError\u001b[0m: name 'driver' is not defined"
          ]
        }
      ]
    },
    {
      "cell_type": "code",
      "metadata": {
        "id": "9xY2nuj6Iu5A",
        "colab_type": "code",
        "colab": {}
      },
      "source": [
        "detail_search_button = driver.find_element_by_css_selector(\"#selectSort > option:nth-child(4)\")\n",
        "detail_search_button.click()\n",
        "\n",
        "time.sleep(2)"
      ],
      "execution_count": null,
      "outputs": []
    },
    {
      "cell_type": "code",
      "metadata": {
        "id": "N4s85IyNIu5G",
        "colab_type": "code",
        "colab": {}
      },
      "source": [
        "more_view = driver.find_element_by_css_selector('#fileDataList > div.tit-group > div > button')\n",
        "more_view.click()\n",
        "time.sleep(2)"
      ],
      "execution_count": null,
      "outputs": []
    },
    {
      "cell_type": "code",
      "metadata": {
        "id": "Fh-l_W6MIu5L",
        "colab_type": "code",
        "colab": {}
      },
      "source": [
        "#driver.close()"
      ],
      "execution_count": null,
      "outputs": []
    },
    {
      "cell_type": "code",
      "metadata": {
        "id": "X3lEP3b1Iu5Q",
        "colab_type": "code",
        "colab": {}
      },
      "source": [
        "view_size = driver.find_element_by_css_selector('#selectSize > option:nth-child(5)')\n",
        "view_size.click()\n",
        "time.sleep(2)"
      ],
      "execution_count": null,
      "outputs": []
    },
    {
      "cell_type": "code",
      "metadata": {
        "scrolled": true,
        "id": "AiA3UfjgIu5W",
        "colab_type": "code",
        "colab": {}
      },
      "source": [
        "for n in range(1,50): ##여기 30은 그 다음페이지 넘어가는 거라서 40개씩 보는걸로 해놨기 때문에 만약 검사결과가 \n",
        "    #1000개라고 하면 1000/40 = 25개 ,+5 해서 넉넉하게 30 이런식으로 바꿔주세요!\n",
        "    time.sleep(0.5)\n",
        "    stores =driver.find_elements_by_css_selector(\"#fileDataList > div.result-list > ul > li\")\n",
        "    for s in stores:\n",
        "        try:\n",
        "            category = s.find_element_by_css_selector(\"span.labelset.brown\").text\n",
        "            name = s.find_element_by_css_selector(\"span.title\").text\n",
        "            updated_date = s.find_element_by_css_selector(\"#fileDataList > div.result-list > ul > li:nth-child(n) > div.info-data > p:nth-child(1) > span.data\").text\n",
        "            view = s.find_element_by_css_selector(\"#fileDataList > div.result-list > ul > li:nth-child(n) > div.info-data > p:nth-child(2) > span.data\").text\n",
        "            download = s.find_element_by_css_selector(\"#fileDataList > div.result-list > ul > li:nth-child(n) > div.info-data > p:nth-child(3) > span.data\").text\n",
        "            period_data= s.find_element_by_css_selector(\"#fileDataList > div.result-list > ul > li:nth-child(n) > div.info-data > p:nth-child(4) > span.data\").text\n",
        "            \n",
        "            #print(download) #왜 4개만 나올까\n",
        "            sheet.append([category, name, updated_date, view, download, period_data])\n",
        "            print(category, name)\n",
        "        except:\n",
        "            continue\n",
        "        \n",
        "    page_bar = driver.find_elements_by_css_selector('nav.pagination > *')\n",
        "\n",
        "    try:\n",
        "        if n%10 != 0:\n",
        "            page_bar[n%10+1].send_keys('\\n')\n",
        "            time.sleep(1)\n",
        "        else:\n",
        "            page_bar[11].send_keys('\\n')\n",
        "            time.sleep(1)\n",
        "    except:\n",
        "        print(\"수집완료\")\n",
        "        break\n",
        "    time.sleep(0.5)\n",
        "\n",
        "wb.save(\"문화재 AND 문화유산 0728.xlsx\")\n",
        "driver.close()"
      ],
      "execution_count": null,
      "outputs": []
    },
    {
      "cell_type": "code",
      "metadata": {
        "id": "SzuBNqEYIu5d",
        "colab_type": "code",
        "colab": {}
      },
      "source": [
        "#만약 새로운 검색어로 만들고 싶으면 만들어진 파일은 꼭! 지우고 하세요\n",
        "#그리고 파일명 저장할때도 이름 바뀌어 있는지 잘 확인하기\n",
        "#A OR B OR C OR D OR 이런거는 따로 파일 새로 하는게 안전할것같으니 엑셀 따로 만들고\n",
        "#나중에 합치는게 좋을것같습니다!"
      ],
      "execution_count": null,
      "outputs": []
    },
    {
      "cell_type": "code",
      "metadata": {
        "id": "TqIkNJ_1Iu5j",
        "colab_type": "code",
        "colab": {}
      },
      "source": [
        ""
      ],
      "execution_count": null,
      "outputs": []
    },
    {
      "cell_type": "code",
      "metadata": {
        "id": "4yyTFpXdIu5p",
        "colab_type": "code",
        "colab": {}
      },
      "source": [
        ""
      ],
      "execution_count": null,
      "outputs": []
    },
    {
      "cell_type": "code",
      "metadata": {
        "id": "qgyx94KOIu5t",
        "colab_type": "code",
        "colab": {}
      },
      "source": [
        ""
      ],
      "execution_count": null,
      "outputs": []
    },
    {
      "cell_type": "code",
      "metadata": {
        "id": "0KAtra1SIu5x",
        "colab_type": "code",
        "colab": {}
      },
      "source": [
        ""
      ],
      "execution_count": null,
      "outputs": []
    },
    {
      "cell_type": "code",
      "metadata": {
        "id": "4pkPZ-0cIu51",
        "colab_type": "code",
        "colab": {}
      },
      "source": [
        ""
      ],
      "execution_count": null,
      "outputs": []
    },
    {
      "cell_type": "code",
      "metadata": {
        "id": "1pIvt0eNIu56",
        "colab_type": "code",
        "colab": {}
      },
      "source": [
        ""
      ],
      "execution_count": null,
      "outputs": []
    },
    {
      "cell_type": "code",
      "metadata": {
        "id": "uF3LCwJqIu5-",
        "colab_type": "code",
        "colab": {}
      },
      "source": [
        ""
      ],
      "execution_count": null,
      "outputs": []
    }
  ]
}